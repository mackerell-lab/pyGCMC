{
 "cells": [
  {
   "cell_type": "code",
   "execution_count": 1,
   "metadata": {},
   "outputs": [],
   "source": [
    "import openmm as mm\n",
    "from openmm.app import *\n",
    "from openmm import *\n",
    "from openmm.unit import *"
   ]
  },
  {
   "cell_type": "code",
   "execution_count": 2,
   "metadata": {},
   "outputs": [
    {
     "name": "stdout",
     "output_type": "stream",
     "text": [
      "Initial energy:  67720432.24309993 kJ/mol\n"
     ]
    }
   ],
   "source": [
    "pdb = PDBFile('6v3g_silcs.1.pdb')\n",
    "PeriodicBoxVectors = pdb.topology.getPeriodicBoxVectors()\n",
    "topo = GromacsTopFile('6v3g_silcs.1.top' , periodicBoxVectors=PeriodicBoxVectors,\n",
    "                                  includeDir='./')\n",
    "system = topo.createSystem(nonbondedMethod=CutoffPeriodic, nonbondedCutoff= 2 ,\n",
    "                                                  constraints=HBonds)\n",
    "integrator = LangevinMiddleIntegrator(298 * kelvin , 1 / picoseconds, 0.002 * picoseconds)\n",
    "simulation = Simulation(topo.topology, system, integrator)\n",
    "simulation.context.setPositions(pdb.positions)\n",
    "state = simulation.context.getState(getEnergy=True)\n",
    "print('Initial energy: ', state.getPotentialEnergy())"
   ]
  },
  {
   "cell_type": "code",
   "execution_count": 14,
   "metadata": {},
   "outputs": [
    {
     "name": "stdout",
     "output_type": "stream",
     "text": [
      "Initial energy:  67770795.67961206 kJ/mol\n"
     ]
    }
   ],
   "source": [
    "pdb = PDBFile('6v3g_silcs.2.pdb')\n",
    "PeriodicBoxVectors = pdb.topology.getPeriodicBoxVectors()\n",
    "topo = GromacsTopFile('6v3g_silcs.2.top' , periodicBoxVectors=PeriodicBoxVectors,\n",
    "                                  includeDir='./')\n",
    "system = topo.createSystem(nonbondedMethod=CutoffPeriodic, nonbondedCutoff= 1.5 ,\n",
    "                                                  constraints=HBonds)\n",
    "integrator = LangevinMiddleIntegrator(298 * kelvin , 1 / picoseconds, 0.002 * picoseconds)\n",
    "simulation = Simulation(topo.topology, system, integrator)\n",
    "simulation.context.setPositions(pdb.positions)\n",
    "state = simulation.context.getState(getEnergy=True)\n",
    "print('Initial energy: ', state.getPotentialEnergy())"
   ]
  },
  {
   "cell_type": "code",
   "execution_count": 3,
   "metadata": {},
   "outputs": [
    {
     "name": "stdout",
     "output_type": "stream",
     "text": [
      "Initial energy:  67720064.1905509 kJ/mol\n"
     ]
    }
   ],
   "source": [
    "pdb = PDBFile('6v3g_silcs.3.pdb')\n",
    "PeriodicBoxVectors = pdb.topology.getPeriodicBoxVectors()\n",
    "topo = GromacsTopFile('6v3g_silcs.3.top' , periodicBoxVectors=PeriodicBoxVectors,\n",
    "                                  includeDir='./')\n",
    "system = topo.createSystem(nonbondedMethod=CutoffPeriodic, nonbondedCutoff= 2 ,\n",
    "                                                  constraints=HBonds)\n",
    "integrator = LangevinMiddleIntegrator(298 * kelvin , 1 / picoseconds, 0.002 * picoseconds)\n",
    "simulation = Simulation(topo.topology, system, integrator)\n",
    "simulation.context.setPositions(pdb.positions)\n",
    "state = simulation.context.getState(getEnergy=True)\n",
    "print('Initial energy: ', state.getPotentialEnergy())"
   ]
  },
  {
   "cell_type": "code",
   "execution_count": 16,
   "metadata": {},
   "outputs": [
    {
     "data": {
      "text/plain": [
       "12111.87544246018"
      ]
     },
     "execution_count": 16,
     "metadata": {},
     "output_type": "execute_result"
    }
   ],
   "source": [
    "67770795.67961206 - 67758683.8041696"
   ]
  },
  {
   "cell_type": "code",
   "execution_count": 3,
   "metadata": {},
   "outputs": [
    {
     "data": {
      "text/plain": [
       "-136.12455753982067"
      ]
     },
     "execution_count": 3,
     "metadata": {},
     "output_type": "execute_result"
    }
   ],
   "source": [
    "67758547.67961206 - 67758683.8041696"
   ]
  },
  {
   "cell_type": "code",
   "execution_count": 5,
   "metadata": {},
   "outputs": [
    {
     "data": {
      "text/plain": [
       "-368.05254903435707"
      ]
     },
     "execution_count": 5,
     "metadata": {},
     "output_type": "execute_result"
    }
   ],
   "source": [
    "67720064.1905509 - 67720432.24309993"
   ]
  },
  {
   "cell_type": "code",
   "execution_count": null,
   "metadata": {},
   "outputs": [],
   "source": []
  },
  {
   "cell_type": "code",
   "execution_count": null,
   "metadata": {},
   "outputs": [],
   "source": []
  },
  {
   "cell_type": "code",
   "execution_count": 19,
   "metadata": {},
   "outputs": [
    {
     "name": "stdout",
     "output_type": "stream",
     "text": [
      "[-0.09784862  0.02119442 -0.37796487]\n"
     ]
    }
   ],
   "source": [
    "import numpy as np\n",
    "\n",
    "# Define the vector to be rotated, rotation axis and the angle\n",
    "v = np.array([0.000, 0.000, -0.391])\n",
    "k = np.array([29.850, 42.018, 155.751])\n",
    "theta = 0.847\n",
    "\n",
    "# Normalize k\n",
    "k_norm = k / np.linalg.norm(k)\n",
    "\n",
    "# Compute rotated vector\n",
    "v_rot = v*np.cos(theta) + np.cross(k_norm, v)*np.sin(theta) + k_norm*np.dot(k_norm, v)*(1 - np.cos(theta))\n",
    "\n",
    "print(v_rot)"
   ]
  },
  {
   "cell_type": "code",
   "execution_count": 20,
   "metadata": {},
   "outputs": [
    {
     "name": "stdout",
     "output_type": "stream",
     "text": [
      "[[ 0.67341581 -0.69561841  0.25025221]\n",
      " [ 0.72709826  0.68439014 -0.05420567]\n",
      " [-0.13356368  0.21846091  0.96666208]]\n"
     ]
    }
   ],
   "source": [
    "\n",
    "# Define the rotation axis and the angle\n",
    "k = np.array([29.850, 42.018, 155.751])\n",
    "theta = 0.847\n",
    "\n",
    "# Normalize k\n",
    "k_norm = k / np.linalg.norm(k)\n",
    "\n",
    "# Define the skew-symmetric matrix K\n",
    "K = np.array([[0, -k_norm[2], k_norm[1]], \n",
    "              [k_norm[2], 0, -k_norm[0]], \n",
    "              [-k_norm[1], k_norm[0], 0]])\n",
    "\n",
    "# Define the identity matrix\n",
    "I = np.eye(3)\n",
    "\n",
    "# Compute rotation matrix\n",
    "R = I + np.sin(theta) * K + (1 - np.cos(theta)) * np.dot(K, K)\n",
    "\n",
    "print(R)"
   ]
  },
  {
   "cell_type": "code",
   "execution_count": 10,
   "metadata": {},
   "outputs": [],
   "source": []
  },
  {
   "cell_type": "code",
   "execution_count": 11,
   "metadata": {},
   "outputs": [
    {
     "name": "stdout",
     "output_type": "stream",
     "text": [
      "Initial energy:  67758747.8041696 kJ/mol\n"
     ]
    }
   ],
   "source": []
  },
  {
   "cell_type": "code",
   "execution_count": null,
   "metadata": {},
   "outputs": [],
   "source": []
  }
 ],
 "metadata": {
  "kernelspec": {
   "display_name": "gcmc",
   "language": "python",
   "name": "python3"
  },
  "language_info": {
   "codemirror_mode": {
    "name": "ipython",
    "version": 3
   },
   "file_extension": ".py",
   "mimetype": "text/x-python",
   "name": "python",
   "nbconvert_exporter": "python",
   "pygments_lexer": "ipython3",
   "version": "3.10.11"
  },
  "orig_nbformat": 4
 },
 "nbformat": 4,
 "nbformat_minor": 2
}
